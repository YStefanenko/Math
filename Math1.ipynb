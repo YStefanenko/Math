{
 "cells": [
  {
   "cell_type": "markdown",
   "id": "f4b36084",
   "metadata": {},
   "source": [
    "# Math\n",
    "## 1. Math1\n",
    "## 2. Math2"
   ]
  },
  {
   "cell_type": "markdown",
   "id": "42b18b73",
   "metadata": {},
   "source": [
    "Hi. This is my first note"
   ]
  },
  {
   "cell_type": "code",
   "execution_count": null,
   "id": "35d04ec8",
   "metadata": {},
   "outputs": [],
   "source": []
  }
 ],
 "metadata": {
  "kernelspec": {
   "display_name": "Python 3 (ipykernel)",
   "language": "python",
   "name": "python3"
  },
  "language_info": {
   "codemirror_mode": {
    "name": "ipython",
    "version": 3
   },
   "file_extension": ".py",
   "mimetype": "text/x-python",
   "name": "python",
   "nbconvert_exporter": "python",
   "pygments_lexer": "ipython3",
   "version": "3.9.13"
  }
 },
 "nbformat": 4,
 "nbformat_minor": 5
}
